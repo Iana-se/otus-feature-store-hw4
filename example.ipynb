{
 "cells": [
  {
   "cell_type": "code",
   "execution_count": 18,
   "id": "f33c3f10-4827-471d-8203-56bf32746e54",
   "metadata": {},
   "outputs": [],
   "source": [
    "import os\n",
    "from datetime import datetime\n",
    "\n",
    "import pandas as pd\n",
    "from feast import FeatureStore"
   ]
  },
  {
   "cell_type": "code",
   "execution_count": 19,
   "id": "a624fcb4-45c2-4a46-b4e6-d6ac877b1360",
   "metadata": {},
   "outputs": [],
   "source": [
    "raw_data_path = os.path.join(\"feature_store\", \"feature_repo\", \"data\", \"driver_stats.parquet\")\n",
    "feature_store_path = os.path.join(\"feature_store\", \"feature_repo\")"
   ]
  },
  {
   "cell_type": "markdown",
   "id": "0d2e9c5c-413a-4915-9d79-9d79e25a6e1e",
   "metadata": {},
   "source": [
    "### Check data"
   ]
  },
  {
   "cell_type": "code",
   "execution_count": 21,
   "id": "900c6e18-5539-4b6a-bc62-8d1dcee1ace3",
   "metadata": {},
   "outputs": [],
   "source": [
    "df = pd.read_parquet(raw_data_path)"
   ]
  },
  {
   "cell_type": "code",
   "execution_count": 22,
   "id": "cf410fe4",
   "metadata": {},
   "outputs": [
    {
     "data": {
      "text/html": [
       "<div>\n",
       "<style scoped>\n",
       "    .dataframe tbody tr th:only-of-type {\n",
       "        vertical-align: middle;\n",
       "    }\n",
       "\n",
       "    .dataframe tbody tr th {\n",
       "        vertical-align: top;\n",
       "    }\n",
       "\n",
       "    .dataframe thead th {\n",
       "        text-align: right;\n",
       "    }\n",
       "</style>\n",
       "<table border=\"1\" class=\"dataframe\">\n",
       "  <thead>\n",
       "    <tr style=\"text-align: right;\">\n",
       "      <th></th>\n",
       "      <th>event_timestamp</th>\n",
       "      <th>driver_id</th>\n",
       "      <th>conv_rate</th>\n",
       "      <th>acc_rate</th>\n",
       "      <th>avg_daily_trips</th>\n",
       "      <th>created</th>\n",
       "    </tr>\n",
       "  </thead>\n",
       "  <tbody>\n",
       "    <tr>\n",
       "      <th>0</th>\n",
       "      <td>2024-10-17 12:07:08.228578+00:00</td>\n",
       "      <td>1001</td>\n",
       "      <td>1.000000</td>\n",
       "      <td>1.000000</td>\n",
       "      <td>1000</td>\n",
       "      <td>2024-10-17 12:07:08.228581</td>\n",
       "    </tr>\n",
       "    <tr>\n",
       "      <th>1</th>\n",
       "      <td>2024-10-02 11:00:00+00:00</td>\n",
       "      <td>1005</td>\n",
       "      <td>0.429879</td>\n",
       "      <td>0.194598</td>\n",
       "      <td>582</td>\n",
       "      <td>2024-10-17 11:30:07.072000</td>\n",
       "    </tr>\n",
       "    <tr>\n",
       "      <th>2</th>\n",
       "      <td>2024-10-02 12:00:00+00:00</td>\n",
       "      <td>1005</td>\n",
       "      <td>0.230119</td>\n",
       "      <td>0.642878</td>\n",
       "      <td>551</td>\n",
       "      <td>2024-10-17 11:30:07.072000</td>\n",
       "    </tr>\n",
       "    <tr>\n",
       "      <th>3</th>\n",
       "      <td>2024-10-02 13:00:00+00:00</td>\n",
       "      <td>1005</td>\n",
       "      <td>0.128600</td>\n",
       "      <td>0.674187</td>\n",
       "      <td>38</td>\n",
       "      <td>2024-10-17 11:30:07.072000</td>\n",
       "    </tr>\n",
       "    <tr>\n",
       "      <th>4</th>\n",
       "      <td>2024-10-02 14:00:00+00:00</td>\n",
       "      <td>1005</td>\n",
       "      <td>0.400603</td>\n",
       "      <td>0.473636</td>\n",
       "      <td>583</td>\n",
       "      <td>2024-10-17 11:30:07.072000</td>\n",
       "    </tr>\n",
       "    <tr>\n",
       "      <th>...</th>\n",
       "      <td>...</td>\n",
       "      <td>...</td>\n",
       "      <td>...</td>\n",
       "      <td>...</td>\n",
       "      <td>...</td>\n",
       "      <td>...</td>\n",
       "    </tr>\n",
       "    <tr>\n",
       "      <th>1803</th>\n",
       "      <td>2024-10-17 09:00:00+00:00</td>\n",
       "      <td>1001</td>\n",
       "      <td>0.704237</td>\n",
       "      <td>0.954645</td>\n",
       "      <td>208</td>\n",
       "      <td>2024-10-17 11:30:07.072000</td>\n",
       "    </tr>\n",
       "    <tr>\n",
       "      <th>1804</th>\n",
       "      <td>2024-10-17 10:00:00+00:00</td>\n",
       "      <td>1001</td>\n",
       "      <td>0.295067</td>\n",
       "      <td>0.257097</td>\n",
       "      <td>456</td>\n",
       "      <td>2024-10-17 11:30:07.072000</td>\n",
       "    </tr>\n",
       "    <tr>\n",
       "      <th>1805</th>\n",
       "      <td>2021-04-12 07:00:00+00:00</td>\n",
       "      <td>1001</td>\n",
       "      <td>0.709758</td>\n",
       "      <td>0.692957</td>\n",
       "      <td>402</td>\n",
       "      <td>2024-10-17 11:30:07.072000</td>\n",
       "    </tr>\n",
       "    <tr>\n",
       "      <th>1806</th>\n",
       "      <td>2024-10-09 23:00:00+00:00</td>\n",
       "      <td>1003</td>\n",
       "      <td>0.708664</td>\n",
       "      <td>0.842933</td>\n",
       "      <td>751</td>\n",
       "      <td>2024-10-17 11:30:07.072000</td>\n",
       "    </tr>\n",
       "    <tr>\n",
       "      <th>1807</th>\n",
       "      <td>2024-10-09 23:00:00+00:00</td>\n",
       "      <td>1003</td>\n",
       "      <td>0.708664</td>\n",
       "      <td>0.842933</td>\n",
       "      <td>751</td>\n",
       "      <td>2024-10-17 11:30:07.072000</td>\n",
       "    </tr>\n",
       "  </tbody>\n",
       "</table>\n",
       "<p>1808 rows × 6 columns</p>\n",
       "</div>"
      ],
      "text/plain": [
       "                      event_timestamp  driver_id  conv_rate  acc_rate  \\\n",
       "0    2024-10-17 12:07:08.228578+00:00       1001   1.000000  1.000000   \n",
       "1           2024-10-02 11:00:00+00:00       1005   0.429879  0.194598   \n",
       "2           2024-10-02 12:00:00+00:00       1005   0.230119  0.642878   \n",
       "3           2024-10-02 13:00:00+00:00       1005   0.128600  0.674187   \n",
       "4           2024-10-02 14:00:00+00:00       1005   0.400603  0.473636   \n",
       "...                               ...        ...        ...       ...   \n",
       "1803        2024-10-17 09:00:00+00:00       1001   0.704237  0.954645   \n",
       "1804        2024-10-17 10:00:00+00:00       1001   0.295067  0.257097   \n",
       "1805        2021-04-12 07:00:00+00:00       1001   0.709758  0.692957   \n",
       "1806        2024-10-09 23:00:00+00:00       1003   0.708664  0.842933   \n",
       "1807        2024-10-09 23:00:00+00:00       1003   0.708664  0.842933   \n",
       "\n",
       "      avg_daily_trips                    created  \n",
       "0                1000 2024-10-17 12:07:08.228581  \n",
       "1                 582 2024-10-17 11:30:07.072000  \n",
       "2                 551 2024-10-17 11:30:07.072000  \n",
       "3                  38 2024-10-17 11:30:07.072000  \n",
       "4                 583 2024-10-17 11:30:07.072000  \n",
       "...               ...                        ...  \n",
       "1803              208 2024-10-17 11:30:07.072000  \n",
       "1804              456 2024-10-17 11:30:07.072000  \n",
       "1805              402 2024-10-17 11:30:07.072000  \n",
       "1806              751 2024-10-17 11:30:07.072000  \n",
       "1807              751 2024-10-17 11:30:07.072000  \n",
       "\n",
       "[1808 rows x 6 columns]"
      ]
     },
     "execution_count": 22,
     "metadata": {},
     "output_type": "execute_result"
    }
   ],
   "source": [
    "df"
   ]
  },
  {
   "cell_type": "markdown",
   "id": "8765696b-10fb-40f2-ab9f-57f08f747a8d",
   "metadata": {},
   "source": [
    "### Features inference"
   ]
  },
  {
   "cell_type": "code",
   "execution_count": 23,
   "id": "902f97c8-ce54-4741-ba3d-51366453ca73",
   "metadata": {},
   "outputs": [],
   "source": [
    "entity_df = pd.DataFrame.from_dict(\n",
    "    {\n",
    "        # entity's join key -> entity values\n",
    "        \"driver_id\": [1001, 1002, 1003],\n",
    "        # \"event_timestamp\" (reserved key) -> timestamps\n",
    "        \"event_timestamp\": [\n",
    "            datetime(2021, 4, 12, 10, 59, 42),\n",
    "            datetime(2021, 4, 12, 8, 12, 10),\n",
    "            datetime(2021, 4, 12, 16, 40, 26),\n",
    "        ],\n",
    "        # (optional) label name -> label values. Feast does not process these\n",
    "        \"label_driver_reported_satisfaction\": [1, 5, 3],\n",
    "    }\n",
    ")"
   ]
  },
  {
   "cell_type": "code",
   "execution_count": 24,
   "id": "9cd2cb33-2764-4467-847d-e55cc0f07084",
   "metadata": {},
   "outputs": [
    {
     "data": {
      "text/html": [
       "<div>\n",
       "<style scoped>\n",
       "    .dataframe tbody tr th:only-of-type {\n",
       "        vertical-align: middle;\n",
       "    }\n",
       "\n",
       "    .dataframe tbody tr th {\n",
       "        vertical-align: top;\n",
       "    }\n",
       "\n",
       "    .dataframe thead th {\n",
       "        text-align: right;\n",
       "    }\n",
       "</style>\n",
       "<table border=\"1\" class=\"dataframe\">\n",
       "  <thead>\n",
       "    <tr style=\"text-align: right;\">\n",
       "      <th></th>\n",
       "      <th>driver_id</th>\n",
       "      <th>event_timestamp</th>\n",
       "      <th>label_driver_reported_satisfaction</th>\n",
       "    </tr>\n",
       "  </thead>\n",
       "  <tbody>\n",
       "    <tr>\n",
       "      <th>0</th>\n",
       "      <td>1001</td>\n",
       "      <td>2021-04-12 10:59:42</td>\n",
       "      <td>1</td>\n",
       "    </tr>\n",
       "    <tr>\n",
       "      <th>1</th>\n",
       "      <td>1002</td>\n",
       "      <td>2021-04-12 08:12:10</td>\n",
       "      <td>5</td>\n",
       "    </tr>\n",
       "    <tr>\n",
       "      <th>2</th>\n",
       "      <td>1003</td>\n",
       "      <td>2021-04-12 16:40:26</td>\n",
       "      <td>3</td>\n",
       "    </tr>\n",
       "  </tbody>\n",
       "</table>\n",
       "</div>"
      ],
      "text/plain": [
       "   driver_id     event_timestamp  label_driver_reported_satisfaction\n",
       "0       1001 2021-04-12 10:59:42                                   1\n",
       "1       1002 2021-04-12 08:12:10                                   5\n",
       "2       1003 2021-04-12 16:40:26                                   3"
      ]
     },
     "execution_count": 24,
     "metadata": {},
     "output_type": "execute_result"
    }
   ],
   "source": [
    "entity_df"
   ]
  },
  {
   "cell_type": "code",
   "execution_count": 25,
   "id": "b24e1ed1-b6ac-43ec-b881-732671b57c69",
   "metadata": {},
   "outputs": [
    {
     "name": "stderr",
     "output_type": "stream",
     "text": [
      "/Users/ypolonskaya/PyProjects/otus-feature-store-hw4/feast-env/lib/python3.11/site-packages/feast/repo_config.py:268: DeprecationWarning: The serialization version below 3 are deprecated. Specifying `entity_key_serialization_version` to 3 is recommended.\n",
      "  warnings.warn(\n"
     ]
    }
   ],
   "source": [
    "store = FeatureStore(repo_path=feature_store_path)"
   ]
  },
  {
   "cell_type": "code",
   "execution_count": 26,
   "id": "077dc5fb-26ac-4ab5-b1bc-e379ee2164cf",
   "metadata": {},
   "outputs": [
    {
     "name": "stdout",
     "output_type": "stream",
     "text": [
      "----- Feature schema -----\n",
      "\n",
      "<class 'pandas.core.frame.DataFrame'>\n",
      "RangeIndex: 3 entries, 0 to 2\n",
      "Data columns (total 6 columns):\n",
      " #   Column                              Non-Null Count  Dtype              \n",
      "---  ------                              --------------  -----              \n",
      " 0   driver_id                           3 non-null      int64              \n",
      " 1   event_timestamp                     3 non-null      datetime64[ns, UTC]\n",
      " 2   label_driver_reported_satisfaction  3 non-null      int64              \n",
      " 3   conv_rate                           3 non-null      float32            \n",
      " 4   acc_rate                            3 non-null      float32            \n",
      " 5   avg_daily_trips                     3 non-null      int32              \n",
      "dtypes: datetime64[ns, UTC](1), float32(2), int32(1), int64(2)\n",
      "memory usage: 240.0 bytes\n",
      "None\n"
     ]
    }
   ],
   "source": [
    "training_df = store.get_historical_features(\n",
    "    entity_df=entity_df,\n",
    "    features=[\n",
    "        \"driver_hourly_stats:conv_rate\",\n",
    "        \"driver_hourly_stats:acc_rate\",\n",
    "        \"driver_hourly_stats:avg_daily_trips\",\n",
    "    ],\n",
    ").to_df()\n",
    "\n",
    "print(\"----- Feature schema -----\\n\")\n",
    "print(training_df.info())"
   ]
  },
  {
   "cell_type": "code",
   "execution_count": 27,
   "id": "cfeee199-39e6-4d19-8656-f4a4401d8723",
   "metadata": {},
   "outputs": [
    {
     "data": {
      "text/html": [
       "<div>\n",
       "<style scoped>\n",
       "    .dataframe tbody tr th:only-of-type {\n",
       "        vertical-align: middle;\n",
       "    }\n",
       "\n",
       "    .dataframe tbody tr th {\n",
       "        vertical-align: top;\n",
       "    }\n",
       "\n",
       "    .dataframe thead th {\n",
       "        text-align: right;\n",
       "    }\n",
       "</style>\n",
       "<table border=\"1\" class=\"dataframe\">\n",
       "  <thead>\n",
       "    <tr style=\"text-align: right;\">\n",
       "      <th></th>\n",
       "      <th>driver_id</th>\n",
       "      <th>event_timestamp</th>\n",
       "      <th>label_driver_reported_satisfaction</th>\n",
       "      <th>conv_rate</th>\n",
       "      <th>acc_rate</th>\n",
       "      <th>avg_daily_trips</th>\n",
       "    </tr>\n",
       "  </thead>\n",
       "  <tbody>\n",
       "    <tr>\n",
       "      <th>0</th>\n",
       "      <td>1001</td>\n",
       "      <td>2021-04-12 10:59:42+00:00</td>\n",
       "      <td>1</td>\n",
       "      <td>0.709758</td>\n",
       "      <td>0.692957</td>\n",
       "      <td>402</td>\n",
       "    </tr>\n",
       "    <tr>\n",
       "      <th>1</th>\n",
       "      <td>1002</td>\n",
       "      <td>2021-04-12 08:12:10+00:00</td>\n",
       "      <td>5</td>\n",
       "      <td>0.718295</td>\n",
       "      <td>0.584081</td>\n",
       "      <td>370</td>\n",
       "    </tr>\n",
       "    <tr>\n",
       "      <th>2</th>\n",
       "      <td>1003</td>\n",
       "      <td>2021-04-12 16:40:26+00:00</td>\n",
       "      <td>3</td>\n",
       "      <td>0.697411</td>\n",
       "      <td>0.197680</td>\n",
       "      <td>25</td>\n",
       "    </tr>\n",
       "  </tbody>\n",
       "</table>\n",
       "</div>"
      ],
      "text/plain": [
       "   driver_id           event_timestamp  label_driver_reported_satisfaction  \\\n",
       "0       1001 2021-04-12 10:59:42+00:00                                   1   \n",
       "1       1002 2021-04-12 08:12:10+00:00                                   5   \n",
       "2       1003 2021-04-12 16:40:26+00:00                                   3   \n",
       "\n",
       "   conv_rate  acc_rate  avg_daily_trips  \n",
       "0   0.709758  0.692957              402  \n",
       "1   0.718295  0.584081              370  \n",
       "2   0.697411  0.197680               25  "
      ]
     },
     "execution_count": 27,
     "metadata": {},
     "output_type": "execute_result"
    }
   ],
   "source": [
    "training_df.head()"
   ]
  },
  {
   "cell_type": "markdown",
   "id": "ca95b6a0-57d1-4fb0-8190-c93cd82e1f36",
   "metadata": {},
   "source": [
    "### Features View - on demand"
   ]
  },
  {
   "cell_type": "code",
   "execution_count": 28,
   "id": "8682dd22-31be-4e71-a672-d558be69078e",
   "metadata": {},
   "outputs": [],
   "source": [
    "entity_df = pd.DataFrame.from_dict(\n",
    "    {\n",
    "        # entity's join key -> entity values\n",
    "        \"driver_id\": [1001, 1002, 1003],\n",
    "        # \"event_timestamp\" (reserved key) -> timestamps\n",
    "        \"event_timestamp\": [\n",
    "            datetime(2021, 4, 12, 10, 59, 42),\n",
    "            datetime(2021, 4, 12, 8, 12, 10),\n",
    "            datetime(2021, 4, 12, 16, 40, 26),\n",
    "        ],\n",
    "        # (optional) label name -> label values. Feast does not process these\n",
    "        \"label_driver_reported_satisfaction\": [1, 5, 3],\n",
    "        # values we're using for an on-demand transformation\n",
    "        \"val_to_add\": [1, 2, 3],\n",
    "        \"val_to_add_2\": [10, 20, 30], \n",
    "    }\n",
    ")"
   ]
  },
  {
   "cell_type": "code",
   "execution_count": 29,
   "id": "5361584f",
   "metadata": {},
   "outputs": [
    {
     "data": {
      "text/html": [
       "<div>\n",
       "<style scoped>\n",
       "    .dataframe tbody tr th:only-of-type {\n",
       "        vertical-align: middle;\n",
       "    }\n",
       "\n",
       "    .dataframe tbody tr th {\n",
       "        vertical-align: top;\n",
       "    }\n",
       "\n",
       "    .dataframe thead th {\n",
       "        text-align: right;\n",
       "    }\n",
       "</style>\n",
       "<table border=\"1\" class=\"dataframe\">\n",
       "  <thead>\n",
       "    <tr style=\"text-align: right;\">\n",
       "      <th></th>\n",
       "      <th>driver_id</th>\n",
       "      <th>event_timestamp</th>\n",
       "      <th>label_driver_reported_satisfaction</th>\n",
       "      <th>val_to_add</th>\n",
       "      <th>val_to_add_2</th>\n",
       "    </tr>\n",
       "  </thead>\n",
       "  <tbody>\n",
       "    <tr>\n",
       "      <th>0</th>\n",
       "      <td>1001</td>\n",
       "      <td>2021-04-12 10:59:42</td>\n",
       "      <td>1</td>\n",
       "      <td>1</td>\n",
       "      <td>10</td>\n",
       "    </tr>\n",
       "    <tr>\n",
       "      <th>1</th>\n",
       "      <td>1002</td>\n",
       "      <td>2021-04-12 08:12:10</td>\n",
       "      <td>5</td>\n",
       "      <td>2</td>\n",
       "      <td>20</td>\n",
       "    </tr>\n",
       "    <tr>\n",
       "      <th>2</th>\n",
       "      <td>1003</td>\n",
       "      <td>2021-04-12 16:40:26</td>\n",
       "      <td>3</td>\n",
       "      <td>3</td>\n",
       "      <td>30</td>\n",
       "    </tr>\n",
       "  </tbody>\n",
       "</table>\n",
       "</div>"
      ],
      "text/plain": [
       "   driver_id     event_timestamp  label_driver_reported_satisfaction  \\\n",
       "0       1001 2021-04-12 10:59:42                                   1   \n",
       "1       1002 2021-04-12 08:12:10                                   5   \n",
       "2       1003 2021-04-12 16:40:26                                   3   \n",
       "\n",
       "   val_to_add  val_to_add_2  \n",
       "0           1            10  \n",
       "1           2            20  \n",
       "2           3            30  "
      ]
     },
     "execution_count": 29,
     "metadata": {},
     "output_type": "execute_result"
    }
   ],
   "source": [
    "entity_df.head(5)"
   ]
  },
  {
   "cell_type": "code",
   "execution_count": 30,
   "id": "b0883583-6c34-4aeb-af77-b47867d689aa",
   "metadata": {},
   "outputs": [],
   "source": [
    "training_df = store.get_historical_features(\n",
    "    entity_df=entity_df,\n",
    "    features=[\n",
    "        \"driver_hourly_stats:conv_rate\",\n",
    "        \"driver_hourly_stats:acc_rate\",\n",
    "        \"driver_hourly_stats:avg_daily_trips\",\n",
    "        \"transformed_conv_rate:conv_rate_plus_val1\",\n",
    "        \"transformed_conv_rate:conv_rate_plus_val2\",\n",
    "    ],\n",
    ").to_df()"
   ]
  },
  {
   "cell_type": "code",
   "execution_count": 31,
   "id": "25b2f0f1-fcd6-4bcc-84c2-9daf381230fc",
   "metadata": {},
   "outputs": [
    {
     "data": {
      "text/html": [
       "<div>\n",
       "<style scoped>\n",
       "    .dataframe tbody tr th:only-of-type {\n",
       "        vertical-align: middle;\n",
       "    }\n",
       "\n",
       "    .dataframe tbody tr th {\n",
       "        vertical-align: top;\n",
       "    }\n",
       "\n",
       "    .dataframe thead th {\n",
       "        text-align: right;\n",
       "    }\n",
       "</style>\n",
       "<table border=\"1\" class=\"dataframe\">\n",
       "  <thead>\n",
       "    <tr style=\"text-align: right;\">\n",
       "      <th></th>\n",
       "      <th>driver_id</th>\n",
       "      <th>event_timestamp</th>\n",
       "      <th>label_driver_reported_satisfaction</th>\n",
       "      <th>val_to_add</th>\n",
       "      <th>val_to_add_2</th>\n",
       "      <th>conv_rate</th>\n",
       "      <th>acc_rate</th>\n",
       "      <th>avg_daily_trips</th>\n",
       "      <th>conv_rate_plus_val1</th>\n",
       "      <th>conv_rate_plus_val2</th>\n",
       "    </tr>\n",
       "  </thead>\n",
       "  <tbody>\n",
       "    <tr>\n",
       "      <th>0</th>\n",
       "      <td>1001</td>\n",
       "      <td>2021-04-12 10:59:42+00:00</td>\n",
       "      <td>1</td>\n",
       "      <td>1</td>\n",
       "      <td>10</td>\n",
       "      <td>0.709758</td>\n",
       "      <td>0.692957</td>\n",
       "      <td>402</td>\n",
       "      <td>1.709758</td>\n",
       "      <td>10.709758</td>\n",
       "    </tr>\n",
       "    <tr>\n",
       "      <th>1</th>\n",
       "      <td>1002</td>\n",
       "      <td>2021-04-12 08:12:10+00:00</td>\n",
       "      <td>5</td>\n",
       "      <td>2</td>\n",
       "      <td>20</td>\n",
       "      <td>0.718295</td>\n",
       "      <td>0.584081</td>\n",
       "      <td>370</td>\n",
       "      <td>2.718295</td>\n",
       "      <td>20.718295</td>\n",
       "    </tr>\n",
       "    <tr>\n",
       "      <th>2</th>\n",
       "      <td>1003</td>\n",
       "      <td>2021-04-12 16:40:26+00:00</td>\n",
       "      <td>3</td>\n",
       "      <td>3</td>\n",
       "      <td>30</td>\n",
       "      <td>0.697411</td>\n",
       "      <td>0.197680</td>\n",
       "      <td>25</td>\n",
       "      <td>3.697411</td>\n",
       "      <td>30.697411</td>\n",
       "    </tr>\n",
       "  </tbody>\n",
       "</table>\n",
       "</div>"
      ],
      "text/plain": [
       "   driver_id           event_timestamp  label_driver_reported_satisfaction  \\\n",
       "0       1001 2021-04-12 10:59:42+00:00                                   1   \n",
       "1       1002 2021-04-12 08:12:10+00:00                                   5   \n",
       "2       1003 2021-04-12 16:40:26+00:00                                   3   \n",
       "\n",
       "   val_to_add  val_to_add_2  conv_rate  acc_rate  avg_daily_trips  \\\n",
       "0           1            10   0.709758  0.692957              402   \n",
       "1           2            20   0.718295  0.584081              370   \n",
       "2           3            30   0.697411  0.197680               25   \n",
       "\n",
       "   conv_rate_plus_val1  conv_rate_plus_val2  \n",
       "0             1.709758            10.709758  \n",
       "1             2.718295            20.718295  \n",
       "2             3.697411            30.697411  "
      ]
     },
     "execution_count": 31,
     "metadata": {},
     "output_type": "execute_result"
    }
   ],
   "source": [
    "training_df"
   ]
  },
  {
   "cell_type": "markdown",
   "id": "e9872818",
   "metadata": {},
   "source": [
    "#### Мои примеры "
   ]
  },
  {
   "cell_type": "code",
   "execution_count": 32,
   "id": "7f40d6fa",
   "metadata": {},
   "outputs": [
    {
     "name": "stdout",
     "output_type": "stream",
     "text": [
      "   driver_id           event_timestamp  conv_rate  acc_rate  avg_daily_trips  \\\n",
      "0       1005 2024-10-02 11:00:00+00:00   0.429879  0.194598              582   \n",
      "1       1001 2024-10-17 12:07:00+00:00   0.295067  0.257097              456   \n",
      "\n",
      "   efficiency_index_odfv  top_performer_flag_odfv  \n",
      "0             136.933762                        1  \n",
      "1              17.314418                        0  \n"
     ]
    }
   ],
   "source": [
    "\n",
    "# Данные с сущностями для запроса признаков\n",
    "entity_df = pd.DataFrame({\n",
    "    \"driver_id\": [1001, 1005],\n",
    "    \"event_timestamp\": [\n",
    "        datetime(2024, 10, 17, 12, 7),\n",
    "        datetime(2024, 10, 2, 11, 0)\n",
    "    ]\n",
    "})\n",
    "\n",
    "# Получаем исторические признаки из обычных Feature View и on-demand\n",
    "training_df = store.get_historical_features(\n",
    "    entity_df=entity_df,\n",
    "    features=[\n",
    "        \"driver_performance:conv_rate\",\n",
    "        \"driver_performance:acc_rate\",\n",
    "        \"driver_activity:avg_daily_trips\",\n",
    "        \"compute_efficiency_odfv:efficiency_index_odfv\",\n",
    "        \"compute_efficiency_odfv:top_performer_flag_odfv\"\n",
    "    ]\n",
    ").to_df()\n",
    "\n",
    "print(training_df)"
   ]
  },
  {
   "cell_type": "markdown",
   "id": "dd688305",
   "metadata": {},
   "source": [
    "### Мои примеры работы с новыми данными"
   ]
  },
  {
   "cell_type": "code",
   "execution_count": 15,
   "id": "f0b65937",
   "metadata": {},
   "outputs": [],
   "source": [
    "raw_data_path = os.path.join(\"feature_store\", \"feature_repo\", \"data\", 'superstore_sales_.parquet')\n",
    "df = pd.read_parquet(raw_data_path)"
   ]
  },
  {
   "cell_type": "code",
   "execution_count": 16,
   "id": "7f851657",
   "metadata": {},
   "outputs": [
    {
     "name": "stdout",
     "output_type": "stream",
     "text": [
      "  customer_id        order_id           event_timestamp    customer_name  \\\n",
      "0    DV-13045  CA-2017-138688 2017-06-12 00:00:00+00:00  Darrin Van Huff   \n",
      "1    CG-12520  CA-2017-152156 2017-11-08 00:00:00+00:00      Claire Gute   \n",
      "\n",
      "     segment   sales       product_id  is_high_value_order  num_items_in_order  \n",
      "0  Corporate   14.62  OFF-LA-10000240                    0                   1  \n",
      "1   Consumer  731.94  FUR-CH-10000454                    1                   1  \n"
     ]
    }
   ],
   "source": [
    "entity_df = pd.DataFrame({\n",
    "    \"customer_id\": [\"CG-12520\", \"DV-13045\"],\n",
    "    \"order_id\": [\"CA-2017-152156\", \"CA-2017-138688\"],\n",
    "    \"event_timestamp\": pd.to_datetime([\"2017-11-08\", \"2017-06-12\"]),  # дата заказа\n",
    "})\n",
    "\n",
    "\n",
    "features = store.get_historical_features(\n",
    "    entity_df=entity_df,\n",
    "    features=[\n",
    "        \"customer_details:customer_name\",\n",
    "        \"customer_details:segment\",\n",
    "        \"order_details:sales\",\n",
    "        \"order_details:product_id\",          \n",
    "        \"order_risk_features:is_high_value_order\",\n",
    "        \"order_risk_features:num_items_in_order\",\n",
    "    ],\n",
    ").to_df()\n",
    "\n",
    "print(features)"
   ]
  },
  {
   "cell_type": "code",
   "execution_count": 17,
   "id": "07f7afee",
   "metadata": {},
   "outputs": [
    {
     "name": "stdout",
     "output_type": "stream",
     "text": [
      "📜 Оффлайн фичи (исторические):\n",
      "  customer_id        order_id           event_timestamp    customer_name  \\\n",
      "0    BH-11710  CA-2015-115812 2015-09-06 00:00:00+00:00  Brosina Hoffman   \n",
      "\n",
      "    segment       product_id  \n",
      "0  Consumer  TEC-PH-10002033  \n"
     ]
    }
   ],
   "source": [
    "from datetime import datetime\n",
    "\n",
    "entity_df = pd.DataFrame({\n",
    "    \"customer_id\": [\"BH-11710\"],\n",
    "    \"order_id\": [\"CA-2015-115812\"],\n",
    "    \"event_timestamp\": pd.to_datetime([\"2015-09-06\"]),  # дата заказа\n",
    "})\n",
    "\n",
    "features_hist = store.get_historical_features(\n",
    "    entity_df=entity_df,\n",
    "    features=[\n",
    "        \"customer_details:customer_name\",\n",
    "        \"customer_details:segment\",\n",
    "        \"order_details:product_id\",\n",
    "    ],\n",
    ").to_df()\n",
    "\n",
    "print(\"📜 Оффлайн фичи (исторические):\")\n",
    "print(features_hist)\n"
   ]
  }
 ],
 "metadata": {
  "kernelspec": {
   "display_name": "feast-env (3.11.11)",
   "language": "python",
   "name": "python3"
  },
  "language_info": {
   "codemirror_mode": {
    "name": "ipython",
    "version": 3
   },
   "file_extension": ".py",
   "mimetype": "text/x-python",
   "name": "python",
   "nbconvert_exporter": "python",
   "pygments_lexer": "ipython3",
   "version": "3.11.11"
  }
 },
 "nbformat": 4,
 "nbformat_minor": 5
}
